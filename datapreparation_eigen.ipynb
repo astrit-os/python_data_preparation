{
 "cells": [
  {
   "cell_type": "markdown",
   "metadata": {},
   "source": [
    "# Data Ingestion"
   ]
  },
  {
   "cell_type": "markdown",
   "metadata": {},
   "source": [
    "### csv.Datei hochladen und Daten bearbeiten"
   ]
  },
  {
   "cell_type": "code",
   "execution_count": 2,
   "metadata": {},
   "outputs": [
    {
     "name": "stdout",
     "output_type": "stream",
     "text": [
      "/workspaces/python_data_preparation\n"
     ]
    }
   ],
   "source": [
    "# Libraries\n",
    "import os\n",
    "import re\n",
    "import time\n",
    "import fnmatch\n",
    "import numpy as np\n",
    "import pandas as pd\n",
    "import seaborn as sns\n",
    "from datetime import datetime\n",
    "import matplotlib.pyplot as plt\n",
    "\n",
    "# Ignore warnings\n",
    "import warnings\n",
    "warnings.filterwarnings(\"ignore\")\n",
    "\n",
    "# Get current working directory\n",
    "print(os.getcwd())"
   ]
  },
  {
   "cell_type": "markdown",
   "metadata": {},
   "source": []
  },
  {
   "cell_type": "code",
   "execution_count": 3,
   "metadata": {},
   "outputs": [
    {
     "name": "stdout",
     "output_type": "stream",
     "text": [
      "ID        0\n",
      "Name      2\n",
      "Age       4\n",
      "City      3\n",
      "Income    3\n",
      "Status    2\n",
      "dtype: int64\n",
      "ID        0\n",
      "Name      0\n",
      "Age       0\n",
      "City      0\n",
      "Income    0\n",
      "Status    0\n",
      "dtype: int64\n"
     ]
    }
   ],
   "source": [
    "# dataimport:\n",
    "df_raw = pd.read_csv('./Data/incomplete_dataset.csv', sep=';', encoding='utf-8')\n",
    "df_raw.head()\n",
    "\n",
    "#datapreparation:\n",
    "print(df_raw.isnull().sum())\n",
    "df = df_raw.dropna()\n",
    "print(df.isnull().sum())"
   ]
  },
  {
   "cell_type": "code",
   "execution_count": 4,
   "metadata": {},
   "outputs": [
    {
     "data": {
      "text/html": [
       "<div>\n",
       "<style scoped>\n",
       "    .dataframe tbody tr th:only-of-type {\n",
       "        vertical-align: middle;\n",
       "    }\n",
       "\n",
       "    .dataframe tbody tr th {\n",
       "        vertical-align: top;\n",
       "    }\n",
       "\n",
       "    .dataframe thead th {\n",
       "        text-align: right;\n",
       "    }\n",
       "</style>\n",
       "<table border=\"1\" class=\"dataframe\">\n",
       "  <thead>\n",
       "    <tr style=\"text-align: right;\">\n",
       "      <th></th>\n",
       "      <th>ID</th>\n",
       "      <th>Name</th>\n",
       "      <th>Age</th>\n",
       "      <th>City</th>\n",
       "      <th>Income</th>\n",
       "      <th>Status</th>\n",
       "    </tr>\n",
       "  </thead>\n",
       "  <tbody>\n",
       "    <tr>\n",
       "      <th>0</th>\n",
       "      <td>1</td>\n",
       "      <td>Anna</td>\n",
       "      <td>23.0</td>\n",
       "      <td>New York</td>\n",
       "      <td>54000.0</td>\n",
       "      <td>Single</td>\n",
       "    </tr>\n",
       "    <tr>\n",
       "      <th>1</th>\n",
       "      <td>2</td>\n",
       "      <td>Ben</td>\n",
       "      <td>35.0</td>\n",
       "      <td>Los Angeles</td>\n",
       "      <td>58000.0</td>\n",
       "      <td>Married</td>\n",
       "    </tr>\n",
       "    <tr>\n",
       "      <th>6</th>\n",
       "      <td>7</td>\n",
       "      <td>Fiona</td>\n",
       "      <td>22.0</td>\n",
       "      <td>New York</td>\n",
       "      <td>48000.0</td>\n",
       "      <td>Single</td>\n",
       "    </tr>\n",
       "    <tr>\n",
       "      <th>10</th>\n",
       "      <td>11</td>\n",
       "      <td>Jack</td>\n",
       "      <td>36.0</td>\n",
       "      <td>Miami</td>\n",
       "      <td>59000.0</td>\n",
       "      <td>Married</td>\n",
       "    </tr>\n",
       "    <tr>\n",
       "      <th>11</th>\n",
       "      <td>12</td>\n",
       "      <td>Kate</td>\n",
       "      <td>19.0</td>\n",
       "      <td>New York</td>\n",
       "      <td>57000.0</td>\n",
       "      <td>Single</td>\n",
       "    </tr>\n",
       "    <tr>\n",
       "      <th>15</th>\n",
       "      <td>16</td>\n",
       "      <td>Nora</td>\n",
       "      <td>33.0</td>\n",
       "      <td>New York</td>\n",
       "      <td>60000.0</td>\n",
       "      <td>Divorced</td>\n",
       "    </tr>\n",
       "    <tr>\n",
       "      <th>18</th>\n",
       "      <td>19</td>\n",
       "      <td>Quinn</td>\n",
       "      <td>27.0</td>\n",
       "      <td>Chicago</td>\n",
       "      <td>47000.0</td>\n",
       "      <td>Married</td>\n",
       "    </tr>\n",
       "  </tbody>\n",
       "</table>\n",
       "</div>"
      ],
      "text/plain": [
       "    ID   Name   Age         City   Income    Status\n",
       "0    1   Anna  23.0     New York  54000.0    Single\n",
       "1    2    Ben  35.0  Los Angeles  58000.0   Married\n",
       "6    7  Fiona  22.0     New York  48000.0    Single\n",
       "10  11   Jack  36.0        Miami  59000.0   Married\n",
       "11  12   Kate  19.0     New York  57000.0    Single\n",
       "15  16   Nora  33.0     New York  60000.0  Divorced\n",
       "18  19  Quinn  27.0      Chicago  47000.0   Married"
      ]
     },
     "execution_count": 4,
     "metadata": {},
     "output_type": "execute_result"
    }
   ],
   "source": [
    "df.head(7)"
   ]
  },
  {
   "cell_type": "code",
   "execution_count": 5,
   "metadata": {},
   "outputs": [
    {
     "name": "stdout",
     "output_type": "stream",
     "text": [
      "    id   name   age         city   income    status\n",
      "0    1   Anna  23.0     New York  54000.0    Single\n",
      "1    2    Ben  35.0  Los Angeles  58000.0   Married\n",
      "6    7  Fiona  22.0     New York  48000.0    Single\n",
      "10  11   Jack  36.0        Miami  59000.0   Married\n",
      "11  12   Kate  19.0     New York  57000.0    Single\n",
      "15  16   Nora  33.0     New York  60000.0  Divorced\n",
      "18  19  Quinn  27.0      Chicago  47000.0   Married\n",
      "\n",
      "id          int64\n",
      "name       object\n",
      "age       float64\n",
      "city       object\n",
      "income    float64\n",
      "status     object\n",
      "dtype: object\n"
     ]
    }
   ],
   "source": [
    "df.columns = df.columns.str.lower()\n",
    "print(df.head(7))\n",
    "print()\n",
    "print(df.dtypes)"
   ]
  },
  {
   "cell_type": "code",
   "execution_count": 7,
   "metadata": {},
   "outputs": [
    {
     "name": "stdout",
     "output_type": "stream",
     "text": [
      "id          int64\n",
      "name       object\n",
      "age         int64\n",
      "city       object\n",
      "income    float64\n",
      "status     object\n",
      "dtype: object\n",
      "\n",
      "id                                                       68\n",
      "name                          AnnaBenFionaJackKateNoraQuinn\n",
      "age                                                     195\n",
      "city      New YorkLos AngelesNew YorkMiamiNew YorkNew Yo...\n",
      "income                                             383000.0\n",
      "status      SingleMarriedSingleMarriedSingleDivorcedMarried\n",
      "dtype: object\n",
      "\n",
      "    id   name  age         city   income    status\n",
      "0    1   Anna   23     New York  54000.0    Single\n",
      "1    2    Ben   35  Los Angeles  58000.0   Married\n",
      "6    7  Fiona   22     New York  48000.0    Single\n",
      "10  11   Jack   36        Miami  59000.0   Married\n",
      "11  12   Kate   19     New York  57000.0    Single\n",
      "15  16   Nora   33     New York  60000.0  Divorced\n",
      "18  19  Quinn   27      Chicago  47000.0   Married\n"
     ]
    }
   ],
   "source": [
    "df['age'] = df['age'].astype(int)\n",
    "print(df.dtypes)\n",
    "print()\n",
    "print(df.sum())\n",
    "print()\n",
    "print(df.head(7))"
   ]
  },
  {
   "cell_type": "code",
   "execution_count": 26,
   "metadata": {},
   "outputs": [
    {
     "data": {
      "text/html": [
       "<div>\n",
       "<style scoped>\n",
       "    .dataframe tbody tr th:only-of-type {\n",
       "        vertical-align: middle;\n",
       "    }\n",
       "\n",
       "    .dataframe tbody tr th {\n",
       "        vertical-align: top;\n",
       "    }\n",
       "\n",
       "    .dataframe thead th {\n",
       "        text-align: right;\n",
       "    }\n",
       "</style>\n",
       "<table border=\"1\" class=\"dataframe\">\n",
       "  <thead>\n",
       "    <tr style=\"text-align: right;\">\n",
       "      <th></th>\n",
       "      <th>id</th>\n",
       "      <th>name</th>\n",
       "      <th>age</th>\n",
       "      <th>city</th>\n",
       "      <th>income</th>\n",
       "      <th>status</th>\n",
       "    </tr>\n",
       "  </thead>\n",
       "  <tbody>\n",
       "    <tr>\n",
       "      <th>0</th>\n",
       "      <td>1</td>\n",
       "      <td>Anna</td>\n",
       "      <td>23</td>\n",
       "      <td>New York</td>\n",
       "      <td>54000.0</td>\n",
       "      <td>Single</td>\n",
       "    </tr>\n",
       "    <tr>\n",
       "      <th>6</th>\n",
       "      <td>7</td>\n",
       "      <td>Fiona</td>\n",
       "      <td>22</td>\n",
       "      <td>New York</td>\n",
       "      <td>48000.0</td>\n",
       "      <td>Single</td>\n",
       "    </tr>\n",
       "    <tr>\n",
       "      <th>11</th>\n",
       "      <td>12</td>\n",
       "      <td>Kate</td>\n",
       "      <td>19</td>\n",
       "      <td>New York</td>\n",
       "      <td>57000.0</td>\n",
       "      <td>Single</td>\n",
       "    </tr>\n",
       "    <tr>\n",
       "      <th>1</th>\n",
       "      <td>2</td>\n",
       "      <td>Ben</td>\n",
       "      <td>35</td>\n",
       "      <td>Los Angeles</td>\n",
       "      <td>58000.0</td>\n",
       "      <td>Married</td>\n",
       "    </tr>\n",
       "    <tr>\n",
       "      <th>10</th>\n",
       "      <td>11</td>\n",
       "      <td>Jack</td>\n",
       "      <td>36</td>\n",
       "      <td>Miami</td>\n",
       "      <td>59000.0</td>\n",
       "      <td>Married</td>\n",
       "    </tr>\n",
       "    <tr>\n",
       "      <th>18</th>\n",
       "      <td>19</td>\n",
       "      <td>Quinn</td>\n",
       "      <td>27</td>\n",
       "      <td>Chicago</td>\n",
       "      <td>47000.0</td>\n",
       "      <td>Married</td>\n",
       "    </tr>\n",
       "    <tr>\n",
       "      <th>15</th>\n",
       "      <td>16</td>\n",
       "      <td>Nora</td>\n",
       "      <td>33</td>\n",
       "      <td>New York</td>\n",
       "      <td>60000.0</td>\n",
       "      <td>Divorced</td>\n",
       "    </tr>\n",
       "  </tbody>\n",
       "</table>\n",
       "</div>"
      ],
      "text/plain": [
       "    id   name  age         city   income    status\n",
       "0    1   Anna   23     New York  54000.0    Single\n",
       "6    7  Fiona   22     New York  48000.0    Single\n",
       "11  12   Kate   19     New York  57000.0    Single\n",
       "1    2    Ben   35  Los Angeles  58000.0   Married\n",
       "10  11   Jack   36        Miami  59000.0   Married\n",
       "18  19  Quinn   27      Chicago  47000.0   Married\n",
       "15  16   Nora   33     New York  60000.0  Divorced"
      ]
     },
     "execution_count": 26,
     "metadata": {},
     "output_type": "execute_result"
    }
   ],
   "source": [
    "df = df.sort_values(by=['status'], \n",
    "                ascending=False)\n",
    "df.head(7)\n",
    "\n",
    "# Hier sage ich, was für eine Reihenfolge die Spalten haben \n",
    "df[['id',\n",
    "     'name',\n",
    "     'age',\n",
    "     'city',\n",
    "     'income',\n",
    "     'status']].head(7)"
   ]
  },
  {
   "cell_type": "code",
   "execution_count": null,
   "metadata": {},
   "outputs": [
    {
     "data": {
      "text/html": [
       "<div>\n",
       "<style scoped>\n",
       "    .dataframe tbody tr th:only-of-type {\n",
       "        vertical-align: middle;\n",
       "    }\n",
       "\n",
       "    .dataframe tbody tr th {\n",
       "        vertical-align: top;\n",
       "    }\n",
       "\n",
       "    .dataframe thead th {\n",
       "        text-align: right;\n",
       "    }\n",
       "</style>\n",
       "<table border=\"1\" class=\"dataframe\">\n",
       "  <thead>\n",
       "    <tr style=\"text-align: right;\">\n",
       "      <th></th>\n",
       "      <th>age</th>\n",
       "      <th>income</th>\n",
       "    </tr>\n",
       "    <tr>\n",
       "      <th>status</th>\n",
       "      <th></th>\n",
       "      <th></th>\n",
       "    </tr>\n",
       "  </thead>\n",
       "  <tbody>\n",
       "    <tr>\n",
       "      <th>Divorced</th>\n",
       "      <td>33.00</td>\n",
       "      <td>60000.00</td>\n",
       "    </tr>\n",
       "    <tr>\n",
       "      <th>Married</th>\n",
       "      <td>32.70</td>\n",
       "      <td>54666.70</td>\n",
       "    </tr>\n",
       "    <tr>\n",
       "      <th>Single</th>\n",
       "      <td>21.30</td>\n",
       "      <td>53000.00</td>\n",
       "    </tr>\n",
       "  </tbody>\n",
       "</table>\n",
       "</div>"
      ],
      "text/plain": [
       "            age    income\n",
       "status                   \n",
       "Divorced  33.00  60000.00\n",
       "Married   32.70  54666.70\n",
       "Single    21.30  53000.00"
      ]
     },
     "execution_count": 23,
     "metadata": {},
     "output_type": "execute_result"
    }
   ],
   "source": [
    "pivot_table = pd.pivot_table(df[['age', 'income', 'status']], index=['status'], values={'income': np.mean, 'age': np.mean}).round(1)                    # round(2) rundet die Werte auf zwei Dezimalstellen\n",
    "\n",
    "# Format the values to 2 decimal places with trailing zeros\n",
    "pivot_table = pivot_table.applymap(lambda x: f\"{x:.2f}\" if isinstance(x, (int, float)) else x)\n",
    "\n",
    "        # lambda x: f\"{x:.2f}\"                  -> formatiert numerische Werte als String mit genau zwei Dezimalstellen und nachfolgenden Nullen (z.b. 123.40)\n",
    "        # if isinstance(x, (int, float))        -> überprüft, ob das Element ein numerischer Typ ist, bevor es formatiert wird.\n",
    "\n",
    "# Display the pivot table\n",
    "pivot_table\n",
    "\n",
    "   "
   ]
  },
  {
   "cell_type": "code",
   "execution_count": 22,
   "metadata": {},
   "outputs": [
    {
     "data": {
      "text/html": [
       "<div>\n",
       "<style scoped>\n",
       "    .dataframe tbody tr th:only-of-type {\n",
       "        vertical-align: middle;\n",
       "    }\n",
       "\n",
       "    .dataframe tbody tr th {\n",
       "        vertical-align: top;\n",
       "    }\n",
       "\n",
       "    .dataframe thead th {\n",
       "        text-align: right;\n",
       "    }\n",
       "</style>\n",
       "<table border=\"1\" class=\"dataframe\">\n",
       "  <thead>\n",
       "    <tr style=\"text-align: right;\">\n",
       "      <th></th>\n",
       "      <th>income</th>\n",
       "    </tr>\n",
       "    <tr>\n",
       "      <th>status</th>\n",
       "      <th></th>\n",
       "    </tr>\n",
       "  </thead>\n",
       "  <tbody>\n",
       "    <tr>\n",
       "      <th>Divorced</th>\n",
       "      <td>60000.00</td>\n",
       "    </tr>\n",
       "    <tr>\n",
       "      <th>Married</th>\n",
       "      <td>54666.70</td>\n",
       "    </tr>\n",
       "    <tr>\n",
       "      <th>Single</th>\n",
       "      <td>53000.00</td>\n",
       "    </tr>\n",
       "  </tbody>\n",
       "</table>\n",
       "</div>"
      ],
      "text/plain": [
       "            income\n",
       "status            \n",
       "Divorced  60000.00\n",
       "Married   54666.70\n",
       "Single    53000.00"
      ]
     },
     "execution_count": 22,
     "metadata": {},
     "output_type": "execute_result"
    }
   ],
   "source": [
    "pivot_table = pd.pivot_table(df, index=['status'], values={'income': np.mean}).round(1)                    # round(2) rundet die Werte auf zwei Dezimalstellen\n",
    "\n",
    "# Format the values to 2 decimal places with trailing zeros\n",
    "pivot_table = pivot_table.applymap(lambda x: f\"{x:.2f}\" if isinstance(x, (int, float)) else x)\n",
    "\n",
    "        # lambda x: f\"{x:.2f}\"                  -> formatiert numerische Werte als String mit genau zwei Dezimalstellen und nachfolgenden Nullen (z.b. 123.40)\n",
    "        # if isinstance(x, (int, float))        -> überprüft, ob das Element ein numerischer Typ ist, bevor es formatiert wird.\n",
    "\n",
    "# Display the pivot table\n",
    "pivot_table\n"
   ]
  },
  {
   "cell_type": "code",
   "execution_count": null,
   "metadata": {},
   "outputs": [],
   "source": []
  },
  {
   "cell_type": "markdown",
   "metadata": {},
   "source": [
    "### Data ingestion - .json-Datei verwenden und Daten bearbeiten"
   ]
  },
  {
   "cell_type": "code",
   "execution_count": 68,
   "metadata": {},
   "outputs": [
    {
     "name": "stdout",
     "output_type": "stream",
     "text": [
      "/workspaces/python_data_preparation\n"
     ]
    }
   ],
   "source": [
    "# Libraries\n",
    "import os\n",
    "import re\n",
    "import pytz\n",
    "import json\n",
    "#import folium\n",
    "import sqlite3\n",
    "import pandas as pd\n",
    "import matplotlib.pyplot as plt\n",
    "\n",
    "from datetime import date\n",
    "from datetime import time\n",
    "\n",
    "from zipfile import ZipFile\n",
    "from bs4 import BeautifulSoup\n",
    "\n",
    "#from PyPDF2 import PdfReader\n",
    "\n",
    "#from reportlab.lib.units import inch\n",
    "#from reportlab.lib.colors import blue\n",
    "#from reportlab.lib.pagesizes import LETTER\n",
    "#from reportlab.pdfgen.canvas import Canvas\n",
    "\n",
    "# Ignore warnings\n",
    "import warnings\n",
    "warnings.filterwarnings('ignore')\n",
    "\n",
    "# Show current working directory\n",
    "print(os.getcwd())"
   ]
  },
  {
   "cell_type": "code",
   "execution_count": 69,
   "metadata": {},
   "outputs": [
    {
     "name": "stdout",
     "output_type": "stream",
     "text": [
      "[{'ID': 1, 'Name': 'George', 'Age': 25.0, 'City': 'Miami', 'Income': 75000.0, 'Status': 'Married'}, {'ID': 2, 'Name': 'Tom', 'Age': 50.0, 'City': 'Chicago', 'Income': None, 'Status': 'Married'}, {'ID': 3, 'Name': 'Oscar', 'Age': 40.0, 'City': 'Miami', 'Income': 55000.0, 'Status': 'Married'}, {'ID': 4, 'Name': 'Kate', 'Age': 25.0, 'City': 'Chicago', 'Income': 55000.0, 'Status': 'Married'}, {'ID': 5, 'Name': 'Hannah', 'Age': None, 'City': 'Los Angeles', 'Income': 65000.0, 'Status': 'Single'}, {'ID': 6, 'Name': 'George', 'Age': 25.0, 'City': 'Chicago', 'Income': 60000.0, 'Status': 'nan'}, {'ID': 7, 'Name': 'Sophie', 'Age': 35.0, 'City': 'Chicago', 'Income': 65000.0, 'Status': 'Married'}, {'ID': 8, 'Name': 'Kate', 'Age': 25.0, 'City': 'Miami', 'Income': 60000.0, 'Status': 'Married'}, {'ID': 9, 'Name': 'Kate', 'Age': None, 'City': 'Miami', 'Income': 65000.0, 'Status': 'Divorced'}, {'ID': 10, 'Name': 'Diana', 'Age': 35.0, 'City': 'New York', 'Income': 50000.0, 'Status': 'Married'}, {'ID': 11, 'Name': 'Hannah', 'Age': 60.0, 'City': 'New York', 'Income': 55000.0, 'Status': 'Divorced'}, {'ID': 12, 'Name': 'Charlie', 'Age': 45.0, 'City': 'Los Angeles', 'Income': None, 'Status': 'nan'}, {'ID': 13, 'Name': 'Ben', 'Age': 45.0, 'City': 'New York', 'Income': 60000.0, 'Status': 'Single'}, {'ID': 14, 'Name': 'Liam', 'Age': 55.0, 'City': 'Chicago', 'Income': 75000.0, 'Status': 'Single'}, {'ID': 15, 'Name': 'Fiona', 'Age': 60.0, 'City': 'Miami', 'Income': 60000.0, 'Status': 'nan'}, {'ID': 16, 'Name': 'Ben', 'Age': 60.0, 'City': 'New York', 'Income': None, 'Status': 'Single'}, {'ID': 17, 'Name': 'Anna', 'Age': 25.0, 'City': 'New York', 'Income': 65000.0, 'Status': 'nan'}, {'ID': 18, 'Name': 'Liam', 'Age': 45.0, 'City': 'Los Angeles', 'Income': 60000.0, 'Status': 'nan'}, {'ID': 19, 'Name': 'Liam', 'Age': None, 'City': 'nan', 'Income': 70000.0, 'Status': 'nan'}, {'ID': 20, 'Name': 'Quinn', 'Age': 30.0, 'City': 'Los Angeles', 'Income': 50000.0, 'Status': 'Single'}, {'ID': 21, 'Name': 'Jack', 'Age': 30.0, 'City': 'Chicago', 'Income': 55000.0, 'Status': 'Divorced'}, {'ID': 22, 'Name': 'Paul', 'Age': 35.0, 'City': 'Miami', 'Income': None, 'Status': 'nan'}, {'ID': 23, 'Name': 'Oscar', 'Age': 45.0, 'City': 'Los Angeles', 'Income': 55000.0, 'Status': 'Married'}, {'ID': 24, 'Name': 'Oscar', 'Age': 45.0, 'City': 'New York', 'Income': 70000.0, 'Status': 'Single'}, {'ID': 25, 'Name': 'Sophie', 'Age': 30.0, 'City': 'Miami', 'Income': 60000.0, 'Status': 'nan'}, {'ID': 26, 'Name': 'Liam', 'Age': 45.0, 'City': 'Miami', 'Income': 60000.0, 'Status': 'nan'}, {'ID': 27, 'Name': 'Tom', 'Age': 25.0, 'City': 'New York', 'Income': 75000.0, 'Status': 'Married'}, {'ID': 28, 'Name': 'Charlie', 'Age': 40.0, 'City': 'Los Angeles', 'Income': 70000.0, 'Status': 'Divorced'}, {'ID': 29, 'Name': 'Elias', 'Age': 22.0, 'City': 'New York', 'Income': None, 'Status': 'Divorced'}, {'ID': 30, 'Name': 'Sophie', 'Age': 60.0, 'City': 'nan', 'Income': 75000.0, 'Status': 'Divorced'}, {'ID': 31, 'Name': 'George', 'Age': 55.0, 'City': 'Miami', 'Income': 50000.0, 'Status': 'nan'}, {'ID': 32, 'Name': 'Ian', 'Age': 35.0, 'City': 'Houston', 'Income': 75000.0, 'Status': 'nan'}, {'ID': 33, 'Name': 'George', 'Age': 40.0, 'City': 'Houston', 'Income': 45000.0, 'Status': 'nan'}, {'ID': 34, 'Name': 'Rachel', 'Age': 30.0, 'City': 'Chicago', 'Income': None, 'Status': 'Single'}, {'ID': 35, 'Name': 'Diana', 'Age': 60.0, 'City': 'New York', 'Income': 45000.0, 'Status': 'Married'}, {'ID': 36, 'Name': 'Nora', 'Age': 45.0, 'City': 'New York', 'Income': 70000.0, 'Status': 'nan'}, {'ID': 37, 'Name': 'Rachel', 'Age': 55.0, 'City': 'Chicago', 'Income': 65000.0, 'Status': 'Married'}, {'ID': 38, 'Name': 'Ian', 'Age': 45.0, 'City': 'Chicago', 'Income': 45000.0, 'Status': 'Married'}, {'ID': 39, 'Name': 'Ben', 'Age': None, 'City': 'Chicago', 'Income': 50000.0, 'Status': 'Divorced'}, {'ID': 40, 'Name': 'Tom', 'Age': None, 'City': 'Miami', 'Income': 75000.0, 'Status': 'Single'}, {'ID': 41, 'Name': 'Oscar', 'Age': 55.0, 'City': 'nan', 'Income': 65000.0, 'Status': 'nan'}, {'ID': 42, 'Name': 'George', 'Age': 55.0, 'City': 'New York', 'Income': 75000.0, 'Status': 'Divorced'}, {'ID': 43, 'Name': 'Liam', 'Age': 30.0, 'City': 'Miami', 'Income': 45000.0, 'Status': 'Divorced'}, {'ID': 44, 'Name': 'Hannah', 'Age': 55.0, 'City': 'Chicago', 'Income': 75000.0, 'Status': 'nan'}, {'ID': 45, 'Name': 'Oscar', 'Age': 25.0, 'City': 'New York', 'Income': 70000.0, 'Status': 'Married'}, {'ID': 46, 'Name': 'Charlie', 'Age': 45.0, 'City': 'Miami', 'Income': 65000.0, 'Status': 'Divorced'}, {'ID': 47, 'Name': 'Nora', 'Age': 40.0, 'City': 'nan', 'Income': 70000.0, 'Status': 'Married'}, {'ID': 48, 'Name': 'Quinn', 'Age': 50.0, 'City': 'Miami', 'Income': 45000.0, 'Status': 'Single'}, {'ID': 49, 'Name': 'Diana', 'Age': 55.0, 'City': 'nan', 'Income': 70000.0, 'Status': 'Married'}, {'ID': 50, 'Name': 'Rachel', 'Age': 35.0, 'City': 'Chicago', 'Income': 50000.0, 'Status': 'Single'}, {'ID': 51, 'Name': 'Hannah', 'Age': None, 'City': 'nan', 'Income': 45000.0, 'Status': 'Married'}, {'ID': 52, 'Name': 'Diana', 'Age': 25.0, 'City': 'New York', 'Income': 45000.0, 'Status': 'Divorced'}, {'ID': 53, 'Name': 'Ben', 'Age': 60.0, 'City': 'Chicago', 'Income': 45000.0, 'Status': 'Divorced'}, {'ID': 54, 'Name': 'Fiona', 'Age': 50.0, 'City': 'New York', 'Income': None, 'Status': 'Single'}, {'ID': 55, 'Name': 'Jack', 'Age': 40.0, 'City': 'Houston', 'Income': 75000.0, 'Status': 'nan'}, {'ID': 56, 'Name': 'Diana', 'Age': 50.0, 'City': 'Los Angeles', 'Income': None, 'Status': 'Single'}, {'ID': 57, 'Name': 'Rachel', 'Age': 55.0, 'City': 'nan', 'Income': None, 'Status': 'Single'}, {'ID': 58, 'Name': 'Liam', 'Age': 30.0, 'City': 'Los Angeles', 'Income': 50000.0, 'Status': 'Married'}, {'ID': 59, 'Name': 'Ben', 'Age': None, 'City': 'Los Angeles', 'Income': 65000.0, 'Status': 'Married'}, {'ID': 60, 'Name': 'Jack', 'Age': None, 'City': 'nan', 'Income': 75000.0, 'Status': 'Single'}, {'ID': 61, 'Name': 'Diana', 'Age': 60.0, 'City': 'Chicago', 'Income': 70000.0, 'Status': 'Divorced'}, {'ID': 62, 'Name': 'Nora', 'Age': 30.0, 'City': 'Houston', 'Income': 60000.0, 'Status': 'Married'}, {'ID': 63, 'Name': 'Paul', 'Age': 45.0, 'City': 'New York', 'Income': 45000.0, 'Status': 'nan'}, {'ID': 64, 'Name': 'Oscar', 'Age': 22.0, 'City': 'Miami', 'Income': 70000.0, 'Status': 'Married'}, {'ID': 65, 'Name': 'Hannah', 'Age': 25.0, 'City': 'New York', 'Income': 45000.0, 'Status': 'Married'}, {'ID': 66, 'Name': 'Nora', 'Age': None, 'City': 'Miami', 'Income': 50000.0, 'Status': 'nan'}, {'ID': 67, 'Name': 'Hannah', 'Age': 35.0, 'City': 'New York', 'Income': 45000.0, 'Status': 'Single'}, {'ID': 68, 'Name': 'Paul', 'Age': None, 'City': 'nan', 'Income': None, 'Status': 'nan'}, {'ID': 69, 'Name': 'Mike', 'Age': 50.0, 'City': 'Houston', 'Income': 75000.0, 'Status': 'Single'}, {'ID': 70, 'Name': 'Rachel', 'Age': None, 'City': 'Miami', 'Income': 60000.0, 'Status': 'Single'}, {'ID': 71, 'Name': 'Oscar', 'Age': None, 'City': 'Chicago', 'Income': 55000.0, 'Status': 'Single'}, {'ID': 72, 'Name': 'Mike', 'Age': 22.0, 'City': 'New York', 'Income': 45000.0, 'Status': 'nan'}, {'ID': 73, 'Name': 'Ian', 'Age': 22.0, 'City': 'New York', 'Income': 70000.0, 'Status': 'Single'}, {'ID': 74, 'Name': 'Oscar', 'Age': 40.0, 'City': 'Miami', 'Income': None, 'Status': 'Divorced'}, {'ID': 75, 'Name': 'Mike', 'Age': 45.0, 'City': 'Chicago', 'Income': 55000.0, 'Status': 'nan'}, {'ID': 76, 'Name': 'Anna', 'Age': 35.0, 'City': 'Chicago', 'Income': 60000.0, 'Status': 'Divorced'}, {'ID': 77, 'Name': 'George', 'Age': None, 'City': 'nan', 'Income': 55000.0, 'Status': 'Single'}, {'ID': 78, 'Name': 'Ian', 'Age': None, 'City': 'nan', 'Income': None, 'Status': 'Married'}, {'ID': 79, 'Name': 'Anna', 'Age': 25.0, 'City': 'nan', 'Income': 75000.0, 'Status': 'Single'}, {'ID': 80, 'Name': 'Liam', 'Age': 22.0, 'City': 'nan', 'Income': 75000.0, 'Status': 'Divorced'}, {'ID': 81, 'Name': 'Hannah', 'Age': 35.0, 'City': 'nan', 'Income': 65000.0, 'Status': 'Divorced'}, {'ID': 82, 'Name': 'Kate', 'Age': 60.0, 'City': 'nan', 'Income': 75000.0, 'Status': 'nan'}, {'ID': 83, 'Name': 'Sophie', 'Age': 40.0, 'City': 'Houston', 'Income': 65000.0, 'Status': 'Married'}, {'ID': 84, 'Name': 'Quinn', 'Age': 45.0, 'City': 'Chicago', 'Income': 55000.0, 'Status': 'nan'}, {'ID': 85, 'Name': 'Hannah', 'Age': 30.0, 'City': 'nan', 'Income': 50000.0, 'Status': 'Divorced'}, {'ID': 86, 'Name': 'Charlie', 'Age': 45.0, 'City': 'Chicago', 'Income': 70000.0, 'Status': 'Single'}, {'ID': 87, 'Name': 'Charlie', 'Age': 50.0, 'City': 'Chicago', 'Income': 70000.0, 'Status': 'Married'}, {'ID': 88, 'Name': 'Anna', 'Age': None, 'City': 'Los Angeles', 'Income': 55000.0, 'Status': 'Single'}, {'ID': 89, 'Name': 'Elias', 'Age': 40.0, 'City': 'Houston', 'Income': 45000.0, 'Status': 'Single'}, {'ID': 90, 'Name': 'Jack', 'Age': 50.0, 'City': 'nan', 'Income': 45000.0, 'Status': 'Married'}, {'ID': 91, 'Name': 'George', 'Age': 35.0, 'City': 'New York', 'Income': 75000.0, 'Status': 'nan'}, {'ID': 92, 'Name': 'Ian', 'Age': 30.0, 'City': 'Miami', 'Income': 70000.0, 'Status': 'Single'}, {'ID': 93, 'Name': 'George', 'Age': 22.0, 'City': 'New York', 'Income': 70000.0, 'Status': 'Divorced'}, {'ID': 94, 'Name': 'Ian', 'Age': 40.0, 'City': 'Houston', 'Income': 65000.0, 'Status': 'Single'}, {'ID': 95, 'Name': 'Hannah', 'Age': 40.0, 'City': 'Miami', 'Income': 50000.0, 'Status': 'Married'}, {'ID': 96, 'Name': 'Liam', 'Age': None, 'City': 'Houston', 'Income': None, 'Status': 'Married'}, {'ID': 97, 'Name': 'Ben', 'Age': 55.0, 'City': 'Chicago', 'Income': 45000.0, 'Status': 'Married'}, {'ID': 98, 'Name': 'Anna', 'Age': 40.0, 'City': 'Miami', 'Income': 70000.0, 'Status': 'nan'}, {'ID': 99, 'Name': 'Paul', 'Age': 25.0, 'City': 'Chicago', 'Income': 65000.0, 'Status': 'Single'}, {'ID': 100, 'Name': 'Elias', 'Age': 30.0, 'City': 'New York', 'Income': 60000.0, 'Status': 'nan'}]\n",
      "     ID    Name   Age         City   Income   Status\n",
      "0     1  George  25.0        Miami  75000.0  Married\n",
      "1     2     Tom  50.0      Chicago      NaN  Married\n",
      "2     3   Oscar  40.0        Miami  55000.0  Married\n",
      "3     4    Kate  25.0      Chicago  55000.0  Married\n",
      "4     5  Hannah   NaN  Los Angeles  65000.0   Single\n",
      "..  ...     ...   ...          ...      ...      ...\n",
      "95   96    Liam   NaN      Houston      NaN  Married\n",
      "96   97     Ben  55.0      Chicago  45000.0  Married\n",
      "97   98    Anna  40.0        Miami  70000.0      nan\n",
      "98   99    Paul  25.0      Chicago  65000.0   Single\n",
      "99  100   Elias  30.0     New York  60000.0      nan\n",
      "\n",
      "[100 rows x 6 columns]\n",
      "(100, 6)\n"
     ]
    }
   ],
   "source": [
    "# Read data\n",
    "with open('./Data/incomplete_dataset.json', 'r') as f:\n",
    "    data_raw = json.load(f)\n",
    "print(data_raw)\n",
    "\n",
    "# Read data to a data frame using the pandas library\n",
    "data_raw = pd.read_json(\"./Data/incomplete_dataset.json\")\n",
    "\n",
    "# Print the data\n",
    "print(data_raw)\n",
    "print(data_raw.shape)"
   ]
  },
  {
   "cell_type": "code",
   "execution_count": 70,
   "metadata": {},
   "outputs": [
    {
     "name": "stdout",
     "output_type": "stream",
     "text": [
      "Missing values before removing:  29\n",
      "Missing values after removing:  0\n",
      "(74, 6)\n",
      "\n",
      "   ID    Name   Age     City   Income   Status\n",
      "0   1  George  25.0    Miami  75000.0  Married\n",
      "2   3   Oscar  40.0    Miami  55000.0  Married\n",
      "3   4    Kate  25.0  Chicago  55000.0  Married\n",
      "5   6  George  25.0  Chicago  60000.0      nan\n",
      "6   7  Sophie  35.0  Chicago  65000.0  Married\n",
      "\n",
      "ID          int64\n",
      "Name       object\n",
      "Age       float64\n",
      "City       object\n",
      "Income    float64\n",
      "Status     object\n",
      "dtype: object\n"
     ]
    }
   ],
   "source": [
    "print(\"Missing values before removing: \", data_raw.isnull().sum().sum())\n",
    "df = data_raw.dropna()\n",
    "print(\"Missing values after removing: \", df.isnull().sum().sum())\n",
    "print(df.shape)\n",
    "print()\n",
    "print(df.head(5))\n",
    "print()\n",
    "print(df.dtypes)\n"
   ]
  },
  {
   "cell_type": "markdown",
   "metadata": {},
   "source": [
    "#### NaN-Werte entfernen   |   Kleinbuchstaben generieren | Index Reseten | duplicate entfernen"
   ]
  },
  {
   "cell_type": "code",
   "execution_count": 76,
   "metadata": {},
   "outputs": [
    {
     "name": "stdout",
     "output_type": "stream",
     "text": [
      "Missing values before removing:  72\n",
      "(100, 6)\n",
      "Missing values after removing:  0\n",
      "(45, 6)\n"
     ]
    },
    {
     "data": {
      "text/html": [
       "<div>\n",
       "<style scoped>\n",
       "    .dataframe tbody tr th:only-of-type {\n",
       "        vertical-align: middle;\n",
       "    }\n",
       "\n",
       "    .dataframe tbody tr th {\n",
       "        vertical-align: top;\n",
       "    }\n",
       "\n",
       "    .dataframe thead th {\n",
       "        text-align: right;\n",
       "    }\n",
       "</style>\n",
       "<table border=\"1\" class=\"dataframe\">\n",
       "  <thead>\n",
       "    <tr style=\"text-align: right;\">\n",
       "      <th></th>\n",
       "      <th>id</th>\n",
       "      <th>name</th>\n",
       "      <th>age</th>\n",
       "      <th>city</th>\n",
       "      <th>income</th>\n",
       "      <th>status</th>\n",
       "    </tr>\n",
       "  </thead>\n",
       "  <tbody>\n",
       "    <tr>\n",
       "      <th>0</th>\n",
       "      <td>1</td>\n",
       "      <td>George</td>\n",
       "      <td>25.0</td>\n",
       "      <td>Miami</td>\n",
       "      <td>75000.0</td>\n",
       "      <td>Married</td>\n",
       "    </tr>\n",
       "    <tr>\n",
       "      <th>1</th>\n",
       "      <td>3</td>\n",
       "      <td>Oscar</td>\n",
       "      <td>40.0</td>\n",
       "      <td>Miami</td>\n",
       "      <td>55000.0</td>\n",
       "      <td>Married</td>\n",
       "    </tr>\n",
       "    <tr>\n",
       "      <th>2</th>\n",
       "      <td>4</td>\n",
       "      <td>Kate</td>\n",
       "      <td>25.0</td>\n",
       "      <td>Chicago</td>\n",
       "      <td>55000.0</td>\n",
       "      <td>Married</td>\n",
       "    </tr>\n",
       "    <tr>\n",
       "      <th>3</th>\n",
       "      <td>7</td>\n",
       "      <td>Sophie</td>\n",
       "      <td>35.0</td>\n",
       "      <td>Chicago</td>\n",
       "      <td>65000.0</td>\n",
       "      <td>Married</td>\n",
       "    </tr>\n",
       "    <tr>\n",
       "      <th>4</th>\n",
       "      <td>8</td>\n",
       "      <td>Kate</td>\n",
       "      <td>25.0</td>\n",
       "      <td>Miami</td>\n",
       "      <td>60000.0</td>\n",
       "      <td>Married</td>\n",
       "    </tr>\n",
       "    <tr>\n",
       "      <th>5</th>\n",
       "      <td>10</td>\n",
       "      <td>Diana</td>\n",
       "      <td>35.0</td>\n",
       "      <td>New York</td>\n",
       "      <td>50000.0</td>\n",
       "      <td>Married</td>\n",
       "    </tr>\n",
       "    <tr>\n",
       "      <th>6</th>\n",
       "      <td>11</td>\n",
       "      <td>Hannah</td>\n",
       "      <td>60.0</td>\n",
       "      <td>New York</td>\n",
       "      <td>55000.0</td>\n",
       "      <td>Divorced</td>\n",
       "    </tr>\n",
       "  </tbody>\n",
       "</table>\n",
       "</div>"
      ],
      "text/plain": [
       "   id    name   age      city   income    status\n",
       "0   1  George  25.0     Miami  75000.0   Married\n",
       "1   3   Oscar  40.0     Miami  55000.0   Married\n",
       "2   4    Kate  25.0   Chicago  55000.0   Married\n",
       "3   7  Sophie  35.0   Chicago  65000.0   Married\n",
       "4   8    Kate  25.0     Miami  60000.0   Married\n",
       "5  10   Diana  35.0  New York  50000.0   Married\n",
       "6  11  Hannah  60.0  New York  55000.0  Divorced"
      ]
     },
     "execution_count": 76,
     "metadata": {},
     "output_type": "execute_result"
    }
   ],
   "source": [
    "data_raw = data_raw.applymap(lambda x: x.strip() if isinstance(x, str) else x)      # falls leerzeichen drin sind\n",
    "data_raw.replace(['N/A', 'None', '-', 'nan'], np.nan, inplace=True)                 # falls NaN-Inhalte als String abgespeichert sind\n",
    "print(\"Missing values before removing: \", data_raw.isnull().sum().sum())\n",
    "print(data_raw.shape)\n",
    "df = data_raw.dropna()\n",
    "df = df.drop_duplicates()       # Standardmäßig entfernt die Methode alle Zeilen, die in ihrem gesamten Inhalt identisch mit anderen Zeilen sind.\n",
    "df.columns = df.columns.str.lower() \n",
    "print(\"Missing values after removing: \", df.isnull().sum().sum())\n",
    "print(df.shape)\n",
    "df = df.reset_index(drop=True)\n",
    "df.head(7)\n"
   ]
  },
  {
   "cell_type": "markdown",
   "metadata": {},
   "source": [
    "## Plots darstellen"
   ]
  },
  {
   "cell_type": "code",
   "execution_count": 81,
   "metadata": {},
   "outputs": [
    {
     "data": {
      "image/png": "[encoded data removed]",
      "text/plain": [
       "<Figure size 800x300 with 2 Axes>"
      ]
     },
     "metadata": {},
     "output_type": "display_data"
    },
    {
     "data": {
      "text/html": [
       "<div>\n",
       "<style scoped>\n",
       "    .dataframe tbody tr th:only-of-type {\n",
       "        vertical-align: middle;\n",
       "    }\n",
       "\n",
       "    .dataframe tbody tr th {\n",
       "        vertical-align: top;\n",
       "    }\n",
       "\n",
       "    .dataframe thead th {\n",
       "        text-align: right;\n",
       "    }\n",
       "</style>\n",
       "<table border=\"1\" class=\"dataframe\">\n",
       "  <thead>\n",
       "    <tr style=\"text-align: right;\">\n",
       "      <th></th>\n",
       "      <th>income</th>\n",
       "      <th>income_bin</th>\n",
       "    </tr>\n",
       "  </thead>\n",
       "  <tbody>\n",
       "    <tr>\n",
       "      <th>0</th>\n",
       "      <td>75000.0</td>\n",
       "      <td>very rich</td>\n",
       "    </tr>\n",
       "    <tr>\n",
       "      <th>1</th>\n",
       "      <td>55000.0</td>\n",
       "      <td>poor</td>\n",
       "    </tr>\n",
       "    <tr>\n",
       "      <th>2</th>\n",
       "      <td>55000.0</td>\n",
       "      <td>poor</td>\n",
       "    </tr>\n",
       "    <tr>\n",
       "      <th>3</th>\n",
       "      <td>65000.0</td>\n",
       "      <td>normal</td>\n",
       "    </tr>\n",
       "    <tr>\n",
       "      <th>4</th>\n",
       "      <td>60000.0</td>\n",
       "      <td>poor</td>\n",
       "    </tr>\n",
       "  </tbody>\n",
       "</table>\n",
       "</div>"
      ],
      "text/plain": [
       "    income income_bin\n",
       "0  75000.0  very rich\n",
       "1  55000.0       poor\n",
       "2  55000.0       poor\n",
       "3  65000.0     normal\n",
       "4  60000.0       poor"
      ]
     },
     "execution_count": 81,
     "metadata": {},
     "output_type": "execute_result"
    }
   ],
   "source": [
    "# Discretization of the variable 'price_per_hp' into 5 bins (note the 'qcut' function)\n",
    "df['income_bin'] = pd.qcut(df['income'], \n",
    "                                 q=6,  # number of quantiles\n",
    "                                 labels=['very poor', \n",
    "                                         'poor', \n",
    "                                         'normal', \n",
    "                                         'rich', \n",
    "                                         'very rich'],\n",
    "                                duplicates='drop')\n",
    "\n",
    "# Show histogram of price_per_hp and barchart of variable 'price_per_hp_bin'\n",
    "plt.figure(figsize=(8, 3))\n",
    "\n",
    "# Create a 1x2 grid\n",
    "plt.subplot(1, 2, 1)\n",
    "sns.histplot(df['income'], bins=25, kde=True)\n",
    "plt.title(\"Histogram of variable 'income'\", fontsize=10)\n",
    "plt.xlabel('income')\n",
    "plt.ylabel('Frequency')\n",
    "\n",
    "plt.subplot(1, 2, 2)\n",
    "sns.countplot(data=df, x='income_bin', orient='v')\n",
    "plt.title(\"Barchart of variable 'income_bin'\", fontsize=10)\n",
    "plt.xlabel('Income category')\n",
    "plt.ylabel('Frequency')\n",
    "plt.xticks(rotation=45)\n",
    "plt.show()\n",
    "\n",
    "# Display variables 'price_per_hp' and 'price_per_hp_bin'\n",
    "df[['income', 'income_bin']].head()\n"
   ]
  },
  {
   "cell_type": "code",
   "execution_count": 85,
   "metadata": {},
   "outputs": [
    {
     "data": {
      "image/png": "[encoded data removed]",
      "text/plain": [
       "<Figure size 700x300 with 2 Axes>"
      ]
     },
     "metadata": {},
     "output_type": "display_data"
    }
   ],
   "source": [
    "# Min-Max scaling of the variable 'mileage'\n",
    "df['income_minmax'] = (df['income'] - df['income'].min()) / (df['income'].max() - df['income'].min())\n",
    "\n",
    "# Histogram of the variable 'area' and 'area_scaled'\n",
    "ax = df[['income', 'income_minmax']].hist(bins=25, \n",
    "                                      figsize=(7, 3), \n",
    "                                      color='steelblue')\n",
    "                                      \n",
    "# Set the y-axis range for each subplot and add labels\n",
    "for axis, label in zip(ax.flatten(), ['Income', 'Min_Max_Scaled(income)']):\n",
    "    axis.set_ylim(0, 15)\n",
    "    axis.set_xlabel(label)\n",
    "    axis.set_ylabel('Frequency')\n",
    "\n",
    "# Display the plot\n",
    "plt.show()"
   ]
  }
 ],
 "metadata": {
  "kernelspec": {
   "display_name": "Python 3",
   "language": "python",
   "name": "python3"
  },
  "language_info": {
   "codemirror_mode": {
    "name": "ipython",
    "version": 3
   },
   "file_extension": ".py",
   "mimetype": "text/x-python",
   "name": "python",
   "nbconvert_exporter": "python",
   "pygments_lexer": "ipython3",
   "version": "3.11.10"
  }
 },
 "nbformat": 4,
 "nbformat_minor": 2
}
